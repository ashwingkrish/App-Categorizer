{
 "cells": [
  {
   "cell_type": "code",
   "execution_count": 11,
   "metadata": {},
   "outputs": [],
   "source": [
    "import pickle\n",
    "import numpy as np\n",
    "import spacy\n",
    "from nltk.stem import WordNetLemmatizer\n",
    "from sklearn.feature_extraction.text import CountVectorizer\n",
    "from sklearn.model_selection import GridSearchCV\n",
    "from sklearn.feature_extraction.text import TfidfTransformer\n",
    "from sklearn.cross_validation import train_test_split\n",
    "from sklearn.neighbors import KNeighborsClassifier\n",
    "from sklearn import metrics\n",
    "from sklearn.linear_model import SGDClassifier\n",
    "from sklearn.cross_validation import cross_val_score\n",
    "from sklearn.pipeline import Pipeline\n",
    "from nltk.tokenize import word_tokenize"
   ]
  },
  {
   "cell_type": "code",
   "execution_count": 12,
   "metadata": {},
   "outputs": [],
   "source": [
    "# initializing the vectorizer and the lemmatizer\n",
    "count_vect = CountVectorizer(stop_words='english')\n",
    "wordnet_lemmatizer = WordNetLemmatizer()\n",
    "appdata = {}\n",
    "with open('appdata2.pickle', 'rb') as handle:\n",
    "    appdata = pickle.load(handle)"
   ]
  },
  {
   "cell_type": "code",
   "execution_count": 4,
   "metadata": {},
   "outputs": [],
   "source": [
    "# possible Y values (category of app)\n",
    "d = {'Communication':0,\n",
    "    'Travel':1,\n",
    "    'Files':2,\n",
    "    'Food':3,\n",
    "    'Productivity':4}\n",
    "Y_values = []\n",
    "X_values = []\n",
    "packagenames = []\n",
    "\n",
    "# formatting the data into readable form\n",
    "for package in appdata:\n",
    "    packagenames.append(package)\n",
    "    s = appdata[package]['description'].decode('utf-8')\n",
    "    doc = word_tokenize(s)\n",
    "    \n",
    "    for w in doc:\n",
    "        s.replace(w, wordnet_lemmatizer.lemmatize(w))\n",
    "    X_values.append(s)\n",
    "    Y_values.append(d[appdata[package]['category']])"
   ]
  },
  {
   "cell_type": "code",
   "execution_count": 7,
   "metadata": {
    "scrolled": true
   },
   "outputs": [],
   "source": [
    "# converting Y_values into a numpy array for efficielcy\n",
    "Y_values = np.array(Y_values)"
   ]
  },
  {
   "cell_type": "code",
   "execution_count": 8,
   "metadata": {},
   "outputs": [],
   "source": [
    "# testing app description (It's a communication app)\n",
    "osp = [\"\"\"\n",
    "Notable is a content creation and sharing app that allows you to quickly capture content on your device screen, mark it up with text or free-form drawing tools, and quickly share it to your friends. The screen capture is triggered from the device convenience key, assigning as a swipe gesture shortcut, or by tapping the dedicated screen capture notification in the notification tray. From there the user can mark up the content they captured quickly in the app – they can draw on it freely, add text, or even add stickers to the Notable to help call attention to something specific, or express themselves. Once the Notable has been created, the user can quickly share it to their friends via the Android share framework.\n",
    "\n",
    "Use-Cases:\n",
    "• Capture and highlight an interesting item you found on Pinterest that you want to share with a family member via BBM.\n",
    "• Capture and callout a specific location on a map that you can share with your colleagues via text message to help show where you are going to meet for lunch.\n",
    "• Capture a specific slide in a presentation that was sent to you for review as an email attachment and callout any changes that need to be made.\n",
    "• Take a picture of a funny moment, add a quick caption and share it with all of your friends on Facebook.\n",
    "• Take a picture of a household item that you need to replace, add a quick caption or note and save to Evernote or your favorite Tasks app to remind you later.\n",
    "• Create simple photo collages with Notable by adding multiple photos to a single Notable and share it with your significant other.\n",
    "\"\"\"]"
   ]
  },
  {
   "cell_type": "code",
   "execution_count": 13,
   "metadata": {},
   "outputs": [
    {
     "name": "stderr",
     "output_type": "stream",
     "text": [
      "c:\\users\\ashman\\appdata\\local\\programs\\python\\python35\\lib\\site-packages\\sklearn\\linear_model\\stochastic_gradient.py:73: DeprecationWarning: n_iter parameter is deprecated in 0.19 and will be removed in 0.21. Use max_iter and tol instead.\n",
      "  DeprecationWarning)\n",
      "c:\\users\\ashman\\appdata\\local\\programs\\python\\python35\\lib\\site-packages\\sklearn\\feature_extraction\\text.py:1089: FutureWarning: Conversion of the second argument of issubdtype from `float` to `np.floating` is deprecated. In future, it will be treated as `np.float64 == np.dtype(float).type`.\n",
      "  if hasattr(X, 'dtype') and np.issubdtype(X.dtype, np.float):\n"
     ]
    },
    {
     "name": "stdout",
     "output_type": "stream",
     "text": [
      "Accuracy: 0.9444444444444444\n"
     ]
    },
    {
     "name": "stderr",
     "output_type": "stream",
     "text": [
      "c:\\users\\ashman\\appdata\\local\\programs\\python\\python35\\lib\\site-packages\\sklearn\\feature_extraction\\text.py:1089: FutureWarning: Conversion of the second argument of issubdtype from `float` to `np.floating` is deprecated. In future, it will be treated as `np.float64 == np.dtype(float).type`.\n",
      "  if hasattr(X, 'dtype') and np.issubdtype(X.dtype, np.float):\n"
     ]
    }
   ],
   "source": [
    "# training an sgd classifier\n",
    "\n",
    "X_train, X_test, y_train, y_test = train_test_split(X_values, Y_values, random_state=4)\n",
    "text_clf_svm = Pipeline([('vect', CountVectorizer(stop_words='english')),\n",
    "                        ('tfidf', TfidfTransformer()),\n",
    "                        ('clf-svm', SGDClassifier(loss='hinge', penalty='l2', alpha=1e-3, n_iter=5,random_state=42))])\n",
    "\n",
    "# fitting only training values\n",
    "_ = text_clf_svm.fit(X_train,y_train)\n",
    "# predicting values of the testing data\n",
    "predicted_svm = text_clf_svm.predict(X_test)\n",
    "\n",
    "# printing out accuracy of the sgd\n",
    "print(\"Accuracy:\", np.mean(predicted_svm == y_test))\n",
    "\n",
    "# fitting all the values including testing values\n",
    "_ = text_clf_svm.fit(X_values, Y_values)"
   ]
  },
  {
   "cell_type": "code",
   "execution_count": 10,
   "metadata": {},
   "outputs": [
    {
     "name": "stderr",
     "output_type": "stream",
     "text": [
      "c:\\users\\ashman\\appdata\\local\\programs\\python\\python35\\lib\\site-packages\\sklearn\\feature_extraction\\text.py:1089: FutureWarning: Conversion of the second argument of issubdtype from `float` to `np.floating` is deprecated. In future, it will be treated as `np.float64 == np.dtype(float).type`.\n",
      "  if hasattr(X, 'dtype') and np.issubdtype(X.dtype, np.float):\n"
     ]
    },
    {
     "data": {
      "text/plain": [
       "array([0])"
      ]
     },
     "execution_count": 10,
     "metadata": {},
     "output_type": "execute_result"
    }
   ],
   "source": [
    "# predicting the category of the example app\n",
    "c = text_clf_svm.predict(osp)"
   ]
  }
 ],
 "metadata": {
  "kernelspec": {
   "display_name": "Python 3",
   "language": "python",
   "name": "python3"
  },
  "language_info": {
   "codemirror_mode": {
    "name": "ipython",
    "version": 3
   },
   "file_extension": ".py",
   "mimetype": "text/x-python",
   "name": "python",
   "nbconvert_exporter": "python",
   "pygments_lexer": "ipython3",
   "version": "3.5.2"
  }
 },
 "nbformat": 4,
 "nbformat_minor": 2
}
